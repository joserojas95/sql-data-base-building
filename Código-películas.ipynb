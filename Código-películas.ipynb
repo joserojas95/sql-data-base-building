{
 "cells": [
  {
   "cell_type": "code",
   "execution_count": 1,
   "id": "e111373f",
   "metadata": {},
   "outputs": [],
   "source": [
    "import pandas as pd\n",
    "import numpy as np\n",
    "import warnings\n",
    "warnings.filterwarnings('ignore') "
   ]
  },
  {
   "cell_type": "code",
   "execution_count": null,
   "id": "da17c48a",
   "metadata": {},
   "outputs": [],
   "source": [
    "#Revisamos tabla de actores. "
   ]
  },
  {
   "cell_type": "code",
   "execution_count": null,
   "id": "8994f247",
   "metadata": {},
   "outputs": [],
   "source": [
    "actores = pd.read_excel('actor.xls')"
   ]
  },
  {
   "cell_type": "code",
   "execution_count": null,
   "id": "5832f9c0",
   "metadata": {},
   "outputs": [],
   "source": []
  }
 ],
 "metadata": {
  "kernelspec": {
   "display_name": "Python 3 (ipykernel)",
   "language": "python",
   "name": "python3"
  },
  "language_info": {
   "codemirror_mode": {
    "name": "ipython",
    "version": 3
   },
   "file_extension": ".py",
   "mimetype": "text/x-python",
   "name": "python",
   "nbconvert_exporter": "python",
   "pygments_lexer": "ipython3",
   "version": "3.9.12"
  }
 },
 "nbformat": 4,
 "nbformat_minor": 5
}
